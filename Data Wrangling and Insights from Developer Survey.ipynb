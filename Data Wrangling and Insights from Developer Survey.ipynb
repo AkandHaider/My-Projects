{
  "cells": [
    {
      "cell_type": "code",
      "execution_count": null,
      "metadata": {
        "tags": [],
        "id": "Bygj8ZsgIHPc"
      },
      "outputs": [],
      "source": [
        "import pandas as pd"
      ]
    },
    {
      "cell_type": "code",
      "execution_count": null,
      "metadata": {
        "tags": [],
        "id": "SPYAPbN_IHPd"
      },
      "outputs": [],
      "source": [
        "df = pd.read_csv(\"https://cf-courses-data.s3.us.cloud-object-storage.appdomain.cloud/IBM-DA0321EN-SkillsNetwork/LargeData/m1_survey_data.csv\")"
      ]
    },
    {
      "cell_type": "markdown",
      "metadata": {
        "id": "O_VfUIK_IHPd"
      },
      "source": [
        "## Finding duplicates"
      ]
    },
    {
      "cell_type": "markdown",
      "metadata": {
        "id": "OrnGN3u1IHPd"
      },
      "source": [
        "In this section you will identify duplicate values in the dataset."
      ]
    },
    {
      "cell_type": "code",
      "execution_count": null,
      "metadata": {
        "tags": [],
        "id": "8BKfCGVQIHPe"
      },
      "outputs": [],
      "source": [
        "# your code goes here\n",
        "len(df[df.duplicated()])"
      ]
    },
    {
      "cell_type": "markdown",
      "metadata": {
        "id": "S1u_VrEyIHPf"
      },
      "source": [
        "## Removing duplicates"
      ]
    },
    {
      "cell_type": "code",
      "execution_count": null,
      "metadata": {
        "tags": [],
        "id": "nXd0gyWQIHPf"
      },
      "outputs": [],
      "source": [
        "# your code goes here\n",
        "df.drop_duplicates(inplace = True)"
      ]
    },
    {
      "cell_type": "markdown",
      "metadata": {
        "id": "NcDhi4taIHPf"
      },
      "source": [
        "Verify if duplicates were actually dropped."
      ]
    },
    {
      "cell_type": "code",
      "execution_count": null,
      "metadata": {
        "tags": [],
        "id": "whXp_f9eIHPf"
      },
      "outputs": [],
      "source": [
        "# your code goes here\n",
        "df.duplicated().sum()"
      ]
    },
    {
      "cell_type": "markdown",
      "metadata": {
        "id": "UDmx2D2yIHPg"
      },
      "source": [
        "## Finding Missing values"
      ]
    },
    {
      "cell_type": "markdown",
      "metadata": {
        "id": "TaENGSRvIHPg"
      },
      "source": [
        "Find the missing values for all columns."
      ]
    },
    {
      "cell_type": "code",
      "execution_count": null,
      "metadata": {
        "tags": [],
        "id": "RB55F_PeIHPg"
      },
      "outputs": [],
      "source": [
        "# your code goes here\n",
        "missing_data = df.isnull()\n",
        "for column in missing_data.columns.values.tolist():\n",
        "    print(column)\n",
        "    print (missing_data[column].value_counts())\n",
        "    print(\"\")"
      ]
    },
    {
      "cell_type": "markdown",
      "metadata": {
        "id": "ExhZTvK7IHPg"
      },
      "source": [
        "Find out how many rows are missing in the column 'WorkLoc'"
      ]
    },
    {
      "cell_type": "code",
      "execution_count": null,
      "metadata": {
        "tags": [],
        "id": "ts7_tJKTIHPg"
      },
      "outputs": [],
      "source": [
        "# your code goes here\n",
        "df['WorkLoc'].isnull().sum()"
      ]
    },
    {
      "cell_type": "markdown",
      "metadata": {
        "id": "bKK-M9IaIHPh"
      },
      "source": [
        "## Imputing missing values"
      ]
    },
    {
      "cell_type": "markdown",
      "metadata": {
        "id": "cAMN0FZKIHPh"
      },
      "source": [
        "Find the  value counts for the column WorkLoc."
      ]
    },
    {
      "cell_type": "code",
      "execution_count": null,
      "metadata": {
        "tags": [],
        "id": "rR7pFhLGIHPh"
      },
      "outputs": [],
      "source": [
        "# your code goes here\n",
        "df['WorkLoc'].value_counts()"
      ]
    },
    {
      "cell_type": "markdown",
      "metadata": {
        "id": "Hw5bjsnhIHPh"
      },
      "source": [
        "Identify the value that is most frequent (majority) in the WorkLoc column."
      ]
    },
    {
      "cell_type": "code",
      "execution_count": null,
      "metadata": {
        "id": "wnOkM8LmIHPi"
      },
      "outputs": [],
      "source": [
        "#make a note of the majority value here, for future reference\n",
        "# 'Office' is the most frequent work location"
      ]
    },
    {
      "cell_type": "markdown",
      "metadata": {
        "id": "qqvc75PeIHPi"
      },
      "source": [
        "Impute (replace) all the empty rows in the column WorkLoc with the value that you have identified as majority."
      ]
    },
    {
      "cell_type": "code",
      "execution_count": null,
      "metadata": {
        "tags": [],
        "id": "mIOTD9nuIHPi"
      },
      "outputs": [],
      "source": [
        "# your code goes here\n",
        "df['WorkLoc'].fillna('Office', inplace = True)"
      ]
    },
    {
      "cell_type": "markdown",
      "metadata": {
        "id": "NkNO8UbVIHPj"
      },
      "source": [
        "After imputation there should ideally not be any empty rows in the WorkLoc column."
      ]
    },
    {
      "cell_type": "markdown",
      "metadata": {
        "id": "2lq5wv18IHPj"
      },
      "source": [
        "Verify if imputing was successful."
      ]
    },
    {
      "cell_type": "code",
      "execution_count": null,
      "metadata": {
        "tags": [],
        "id": "pZAmJ-B4IHPj"
      },
      "outputs": [],
      "source": [
        "# your code goes here\n",
        "df['WorkLoc'].isnull().sum()"
      ]
    },
    {
      "cell_type": "markdown",
      "metadata": {
        "id": "JuyoUSWlIHPk"
      },
      "source": [
        "## Normalizing data"
      ]
    },
    {
      "cell_type": "markdown",
      "metadata": {
        "id": "Wr6-dThFIHPk"
      },
      "source": [
        "There are two columns in the dataset that talk about compensation.\n",
        "\n",
        "One is \"CompFreq\". This column shows how often a developer is paid (Yearly, Monthly, Weekly).\n",
        "\n",
        "The other is \"CompTotal\". This column talks about how much the developer is paid per Year, Month, or Week depending upon his/her \"CompFreq\".\n",
        "\n",
        "This makes it difficult to compare the total compensation of the developers.\n",
        "\n",
        "In this section you will create a new column called 'NormalizedAnnualCompensation' which contains the 'Annual Compensation' irrespective of the 'CompFreq'.\n",
        "\n",
        "Once this column is ready, it makes comparison of salaries easy."
      ]
    },
    {
      "cell_type": "markdown",
      "metadata": {
        "id": "1XuJqht2IHPl"
      },
      "source": [
        "<hr>"
      ]
    },
    {
      "cell_type": "markdown",
      "metadata": {
        "id": "GrLGo8TxIHPm"
      },
      "source": [
        "List out the various categories in the column 'CompFreq'"
      ]
    },
    {
      "cell_type": "code",
      "execution_count": null,
      "metadata": {
        "tags": [],
        "id": "BrhBtVL9IHPm"
      },
      "outputs": [],
      "source": [
        "# your code goes here\n",
        "df['CompFreq'].unique()"
      ]
    },
    {
      "cell_type": "code",
      "execution_count": null,
      "metadata": {
        "id": "PmvMdkWwIHPn"
      },
      "outputs": [],
      "source": [
        "# your code goes here\n",
        "\n",
        "def conditions(s):\n",
        "    if (s['CompFreq'] == 'Yearly'):\n",
        "        return s['CompTotal']\n",
        "    elif (s['CompFreq'] == 'Monthly'):\n",
        "        return (s['CompTotal'] * 12)\n",
        "    else:\n",
        "        return (s['CompTotal'] * 52)\n",
        "df['NormalizedAnnualCompensation'] = df.apply(conditions, axis = 1)"
      ]
    }
  ],
  "metadata": {
    "kernelspec": {
      "display_name": "Python",
      "language": "python",
      "name": "conda-env-python-py"
    },
    "language_info": {
      "codemirror_mode": {
        "name": "ipython",
        "version": 3
      },
      "file_extension": ".py",
      "mimetype": "text/x-python",
      "name": "python",
      "nbconvert_exporter": "python",
      "pygments_lexer": "ipython3",
      "version": "3.7.12"
    },
    "colab": {
      "provenance": []
    }
  },
  "nbformat": 4,
  "nbformat_minor": 0
}