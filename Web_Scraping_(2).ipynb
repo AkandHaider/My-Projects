{
  "cells": [
    {
      "cell_type": "markdown",
      "metadata": {
        "id": "hSpE83-hSp5V"
      },
      "source": [
        "# **Hands-on Lab : Web Scraping**\n"
      ]
    },
    {
      "cell_type": "markdown",
      "metadata": {
        "id": "Fwyz5oKkSp5V"
      },
      "source": [
        "## Objectives\n"
      ]
    },
    {
      "cell_type": "markdown",
      "metadata": {
        "id": "4eddGwdPSp5W"
      },
      "source": [
        "In this lab you will perform the following:\n"
      ]
    },
    {
      "cell_type": "markdown",
      "metadata": {
        "id": "ekfnEG-oSp5W"
      },
      "source": [
        "* Extract information from a given web site\n",
        "* Write the scraped data into a csv file.\n"
      ]
    },
    {
      "cell_type": "markdown",
      "metadata": {
        "id": "fK5P7xA_Sp5W"
      },
      "source": [
        "## Extract information from the given web site\n",
        "You will extract the data from the below web site: <br>\n"
      ]
    },
    {
      "cell_type": "code",
      "execution_count": null,
      "metadata": {
        "tags": [],
        "id": "KoGqxN95Sp5X"
      },
      "outputs": [],
      "source": [
        "#this url contains the data you need to scrape\n",
        "url = \"https://cf-courses-data.s3.us.cloud-object-storage.appdomain.cloud/IBM-DA0321EN-SkillsNetwork/labs/datasets/Programming_Languages.html\""
      ]
    },
    {
      "cell_type": "markdown",
      "metadata": {
        "id": "tKJB2nxDSp5Y"
      },
      "source": [
        "The data you need to scrape is the **name of the programming language** and **average annual salary**.<br> It is a good idea to open the url in your web broswer and study the contents of the web page before you start to scrape.\n"
      ]
    },
    {
      "cell_type": "markdown",
      "metadata": {
        "id": "7NKdLLzLSp5Y"
      },
      "source": [
        "Import the required libraries\n"
      ]
    },
    {
      "cell_type": "code",
      "execution_count": null,
      "metadata": {
        "tags": [],
        "id": "4vfod3dgSp5Y",
        "outputId": "787d9c9d-5842-4545-fb9f-fec11d97f512"
      },
      "outputs": [
        {
          "name": "stdout",
          "output_type": "stream",
          "text": [
            "Requirement already satisfied: html5lib in /home/jupyterlab/conda/envs/python/lib/python3.7/site-packages (1.1)\n",
            "Requirement already satisfied: six>=1.9 in /home/jupyterlab/conda/envs/python/lib/python3.7/site-packages (from html5lib) (1.16.0)\n",
            "Requirement already satisfied: webencodings in /home/jupyterlab/conda/envs/python/lib/python3.7/site-packages (from html5lib) (0.5.1)\n",
            "Requirement already satisfied: lxml in /home/jupyterlab/conda/envs/python/lib/python3.7/site-packages (4.9.2)\n",
            "Requirement already satisfied: beautifulsoup4 in /home/jupyterlab/conda/envs/python/lib/python3.7/site-packages (4.11.1)\n",
            "Requirement already satisfied: soupsieve>1.2 in /home/jupyterlab/conda/envs/python/lib/python3.7/site-packages (from beautifulsoup4) (2.3.2.post1)\n"
          ]
        }
      ],
      "source": [
        "# Your code here\n",
        "!pip install html5lib\n",
        "!pip install lxml\n",
        "!pip install beautifulsoup4"
      ]
    },
    {
      "cell_type": "code",
      "execution_count": null,
      "metadata": {
        "tags": [],
        "id": "LP98LZKsSp5a"
      },
      "outputs": [],
      "source": [
        "from bs4 import BeautifulSoup # this module helps in web scrapping.\n",
        "import requests  # this module helps us to download a web page"
      ]
    },
    {
      "cell_type": "markdown",
      "metadata": {
        "id": "EuWJ_JUgSp5a"
      },
      "source": [
        "Download the webpage at the url\n"
      ]
    },
    {
      "cell_type": "code",
      "execution_count": null,
      "metadata": {
        "tags": [],
        "id": "Chy3UIcuSp5a"
      },
      "outputs": [],
      "source": [
        "#your code goes here\n",
        "data = requests.get(url).text"
      ]
    },
    {
      "cell_type": "markdown",
      "metadata": {
        "id": "DY_w6gQESp5a"
      },
      "source": [
        "Create a soup object\n"
      ]
    },
    {
      "cell_type": "code",
      "execution_count": null,
      "metadata": {
        "tags": [],
        "id": "rTdSKcOLSp5a"
      },
      "outputs": [],
      "source": [
        "#your code goes here\n",
        "\n",
        "soup = BeautifulSoup(data,'html5lib')"
      ]
    },
    {
      "cell_type": "code",
      "execution_count": null,
      "metadata": {
        "tags": [],
        "id": "UcFXgkiDSp5b"
      },
      "outputs": [],
      "source": [
        "table = soup.find('table')"
      ]
    },
    {
      "cell_type": "markdown",
      "metadata": {
        "id": "BbA-N5mISp5b"
      },
      "source": [
        "Scrape the `Language name` and `annual average salary`.\n"
      ]
    },
    {
      "cell_type": "code",
      "execution_count": null,
      "metadata": {
        "tags": [],
        "id": "6_5UqFcPSp5b",
        "outputId": "c64342d7-e501-46ef-9dbd-e2d9fbcee5d8"
      },
      "outputs": [
        {
          "name": "stdout",
          "output_type": "stream",
          "text": [
            "Language--->Average Annual Salary\n",
            "Python--->$114,383\n",
            "Java--->$101,013\n",
            "R--->$92,037\n",
            "Javascript--->$110,981\n",
            "Swift--->$130,801\n",
            "C++--->$113,865\n",
            "C#--->$88,726\n",
            "PHP--->$84,727\n",
            "SQL--->$84,793\n",
            "Go--->$94,082\n"
          ]
        }
      ],
      "source": [
        "#your code goes here\n",
        "popular_language =[]\n",
        "for row in table.find_all('tr'): # in html table row is represented by the tag <tr>\n",
        "    # Get all columns in each row.\n",
        "    cols = row.find_all('td') # in html a column is represented by the tag <td>\n",
        "    Language_name = cols[1].getText() # store the value in column 3 as color_name\n",
        "    annual_average_salary = cols[3].getText() # store the value in column 4 as color_code\n",
        "    print(\"{}--->{}\".format(Language_name, annual_average_salary))\n",
        "    popular_lan=[Language_name,annual_average_salary]\n",
        "    popular_language.append(popular_lan)"
      ]
    },
    {
      "cell_type": "markdown",
      "metadata": {
        "id": "VCSYdXGsSp5b"
      },
      "source": [
        "Save the scrapped data into a file named *popular-languages.csv*\n"
      ]
    },
    {
      "cell_type": "code",
      "execution_count": null,
      "metadata": {
        "tags": [],
        "id": "rPh6Y_gsSp5c",
        "outputId": "edb3e5bb-8e73-42f9-b32b-8a36b77c4102"
      },
      "outputs": [
        {
          "data": {
            "text/html": [
              "<div>\n",
              "<style scoped>\n",
              "    .dataframe tbody tr th:only-of-type {\n",
              "        vertical-align: middle;\n",
              "    }\n",
              "\n",
              "    .dataframe tbody tr th {\n",
              "        vertical-align: top;\n",
              "    }\n",
              "\n",
              "    .dataframe thead th {\n",
              "        text-align: right;\n",
              "    }\n",
              "</style>\n",
              "<table border=\"1\" class=\"dataframe\">\n",
              "  <thead>\n",
              "    <tr style=\"text-align: right;\">\n",
              "      <th></th>\n",
              "      <th>Language</th>\n",
              "      <th>Average Annual Salary</th>\n",
              "    </tr>\n",
              "  </thead>\n",
              "  <tbody>\n",
              "    <tr>\n",
              "      <th>0</th>\n",
              "      <td>Python</td>\n",
              "      <td>$114,383</td>\n",
              "    </tr>\n",
              "    <tr>\n",
              "      <th>1</th>\n",
              "      <td>Java</td>\n",
              "      <td>$101,013</td>\n",
              "    </tr>\n",
              "    <tr>\n",
              "      <th>2</th>\n",
              "      <td>R</td>\n",
              "      <td>$92,037</td>\n",
              "    </tr>\n",
              "    <tr>\n",
              "      <th>3</th>\n",
              "      <td>Javascript</td>\n",
              "      <td>$110,981</td>\n",
              "    </tr>\n",
              "    <tr>\n",
              "      <th>4</th>\n",
              "      <td>Swift</td>\n",
              "      <td>$130,801</td>\n",
              "    </tr>\n",
              "    <tr>\n",
              "      <th>5</th>\n",
              "      <td>C++</td>\n",
              "      <td>$113,865</td>\n",
              "    </tr>\n",
              "    <tr>\n",
              "      <th>6</th>\n",
              "      <td>C#</td>\n",
              "      <td>$88,726</td>\n",
              "    </tr>\n",
              "    <tr>\n",
              "      <th>7</th>\n",
              "      <td>PHP</td>\n",
              "      <td>$84,727</td>\n",
              "    </tr>\n",
              "    <tr>\n",
              "      <th>8</th>\n",
              "      <td>SQL</td>\n",
              "      <td>$84,793</td>\n",
              "    </tr>\n",
              "    <tr>\n",
              "      <th>9</th>\n",
              "      <td>Go</td>\n",
              "      <td>$94,082</td>\n",
              "    </tr>\n",
              "  </tbody>\n",
              "</table>\n",
              "</div>"
            ],
            "text/plain": [
              "     Language Average Annual Salary\n",
              "0      Python              $114,383\n",
              "1        Java              $101,013\n",
              "2           R               $92,037\n",
              "3  Javascript              $110,981\n",
              "4       Swift              $130,801\n",
              "5         C++              $113,865\n",
              "6          C#               $88,726\n",
              "7         PHP               $84,727\n",
              "8         SQL               $84,793\n",
              "9          Go               $94,082"
            ]
          },
          "execution_count": 14,
          "metadata": {},
          "output_type": "execute_result"
        }
      ],
      "source": [
        "# your code goes here\n",
        "import csv\n",
        "with open('popular-languages.csv','w',newline='') as file:\n",
        "    csvwriter = csv.writer(file)\n",
        "    for row in popular_language:\n",
        "        csvwriter.writerow(row)\n",
        "\n",
        "import pandas as pd\n",
        "df = pd.read_csv('popular-languages.csv')\n",
        "df.head(50)\n"
      ]
    }
  ],
  "metadata": {
    "kernelspec": {
      "display_name": "Python",
      "language": "python",
      "name": "conda-env-python-py"
    },
    "language_info": {
      "codemirror_mode": {
        "name": "ipython",
        "version": 3
      },
      "file_extension": ".py",
      "mimetype": "text/x-python",
      "name": "python",
      "nbconvert_exporter": "python",
      "pygments_lexer": "ipython3",
      "version": "3.7.12"
    },
    "colab": {
      "provenance": []
    }
  },
  "nbformat": 4,
  "nbformat_minor": 0
}